{
  "nbformat": 4,
  "nbformat_minor": 0,
  "metadata": {
    "colab": {
      "provenance": [],
      "authorship_tag": "ABX9TyNy5E3DxL1H5e8HAXVmaeoH"
    },
    "kernelspec": {
      "name": "python3",
      "display_name": "Python 3"
    },
    "language_info": {
      "name": "python"
    }
  },
  "cells": [
    {
      "cell_type": "code",
      "execution_count": 21,
      "metadata": {
        "id": "QBCnSZfD2hE0"
      },
      "outputs": [],
      "source": [
        "from IPython import get_ipython\n",
        "from IPython.display import display\n",
        "from tensorflow.keras.datasets import boston_housing\n",
        "from tensorflow.keras.optimizers import RMSprop\n",
        "from tensorflow.keras.metrics import RootMeanSquaredError\n",
        "import numpy as np\n",
        "from tensorflow import keras\n",
        "from keras import models\n",
        "from keras import layers\n",
        "\n",
        "\n",
        "(train_data, train_targets), (test_data, test_targets) = boston_housing.load_data() #載入數據集並分成訓練集和測試集(回歸問題)"
      ]
    },
    {
      "cell_type": "markdown",
      "source": [
        "# 新增區段"
      ],
      "metadata": {
        "id": "5ReWjaIzKS6e"
      }
    },
    {
      "cell_type": "code",
      "source": [
        "(train_data, train_targets), (test_data, test_targets) = boston_housing.load_data()\n",
        "\n",
        "# 特徵名稱\n",
        "feature_names = [\n",
        "    \"CRIM\", \"ZN\", \"INDUS\", \"CHAS\", \"NOX\", \"RM\", \"AGE\", \"DIS\", \"RAD\", \"TAX\", \"PTRATIO\", \"B\", \"LSTAT\"\n",
        "]\n",
        "\n",
        "# 第一筆訓練資料\n",
        "first_data = train_data[0]\n",
        "first_target = train_targets[0]\n",
        "\n",
        "explanations = [\n",
        "    \"每個城鎮的犯罪率\",\n",
        "    \"住宅用地比例\",\n",
        "    \"非零售商業用地比例\",\n",
        "    \"查爾斯河虛擬變數\",\n",
        "    \"氮氧化物濃度\",\n",
        "    \"每戶平均房間數\",\n",
        "    \"1940年之前建造的業主自用住宅比例\",\n",
        "    \"到波士頓五個就業中心的加權距離\",\n",
        "    \"高速公路可達性指數\",\n",
        "    \"每$10,000美元的財產稅率\",\n",
        "    \"每個城鎮的師生比例\",\n",
        "    \"1000 * (Bk - 0.63)^2，其中Bk為該地區的黑人比例\",\n",
        "    \"低社會經濟地位人口的百分比\"\n",
        "]\n",
        "\n",
        "\n",
        "# 打印整齊的第一筆數據與解釋，確保冒號對齊\n",
        "print(f\"第一筆訓練資料：\")\n",
        "print(\"=\"*70)\n",
        "\n",
        "for i, (name, value, explanation) in enumerate(zip(feature_names, first_data, explanations)):\n",
        "    # 直接使用固定寬度對齊\n",
        "    print(f\"{name} - {explanation:} : {value}\")\n",
        "\n",
        "# 顯示房價中位數對應的資料\n",
        "print(\"=\"*70)\n",
        "print(f\"MEDV (房價中位數): {first_target * 1000:,.2f} 美元\")"
      ],
      "metadata": {
        "colab": {
          "base_uri": "https://localhost:8080/"
        },
        "id": "fLJloYLr2mzO",
        "outputId": "f32bb121-0886-42ad-a86c-f2776f7672d6"
      },
      "execution_count": 22,
      "outputs": [
        {
          "output_type": "stream",
          "name": "stdout",
          "text": [
            "第一筆訓練資料：\n",
            "======================================================================\n",
            "CRIM - 每個城鎮的犯罪率 : 1.23247\n",
            "ZN - 住宅用地比例 : 0.0\n",
            "INDUS - 非零售商業用地比例 : 8.14\n",
            "CHAS - 查爾斯河虛擬變數 : 0.0\n",
            "NOX - 氮氧化物濃度 : 0.538\n",
            "RM - 每戶平均房間數 : 6.142\n",
            "AGE - 1940年之前建造的業主自用住宅比例 : 91.7\n",
            "DIS - 到波士頓五個就業中心的加權距離 : 3.9769\n",
            "RAD - 高速公路可達性指數 : 4.0\n",
            "TAX - 每$10,000美元的財產稅率 : 307.0\n",
            "PTRATIO - 每個城鎮的師生比例 : 21.0\n",
            "B - 1000 * (Bk - 0.63)^2，其中Bk為該地區的黑人比例 : 396.9\n",
            "LSTAT - 低社會經濟地位人口的百分比 : 18.72\n",
            "======================================================================\n",
            "MEDV (房價中位數): 15,200.00 美元\n"
          ]
        }
      ]
    },
    {
      "cell_type": "code",
      "source": [
        "test_data.shape #測試集有102筆數據，每筆有13個特徵"
      ],
      "metadata": {
        "colab": {
          "base_uri": "https://localhost:8080/"
        },
        "id": "l7jcZulb2qje",
        "outputId": "c08243e0-c93c-411c-e85e-326ab5661fff"
      },
      "execution_count": 23,
      "outputs": [
        {
          "output_type": "execute_result",
          "data": {
            "text/plain": [
              "(102, 13)"
            ]
          },
          "metadata": {},
          "execution_count": 23
        }
      ]
    },
    {
      "cell_type": "code",
      "source": [
        "train_targets #404個對應的房價"
      ],
      "metadata": {
        "colab": {
          "base_uri": "https://localhost:8080/"
        },
        "id": "1fG1-Lq32sAJ",
        "outputId": "fc567721-7377-4a92-a815-d4114500de49"
      },
      "execution_count": 24,
      "outputs": [
        {
          "output_type": "execute_result",
          "data": {
            "text/plain": [
              "array([15.2, 42.3, 50. , 21.1, 17.7, 18.5, 11.3, 15.6, 15.6, 14.4, 12.1,\n",
              "       17.9, 23.1, 19.9, 15.7,  8.8, 50. , 22.5, 24.1, 27.5, 10.9, 30.8,\n",
              "       32.9, 24. , 18.5, 13.3, 22.9, 34.7, 16.6, 17.5, 22.3, 16.1, 14.9,\n",
              "       23.1, 34.9, 25. , 13.9, 13.1, 20.4, 20. , 15.2, 24.7, 22.2, 16.7,\n",
              "       12.7, 15.6, 18.4, 21. , 30.1, 15.1, 18.7,  9.6, 31.5, 24.8, 19.1,\n",
              "       22. , 14.5, 11. , 32. , 29.4, 20.3, 24.4, 14.6, 19.5, 14.1, 14.3,\n",
              "       15.6, 10.5,  6.3, 19.3, 19.3, 13.4, 36.4, 17.8, 13.5, 16.5,  8.3,\n",
              "       14.3, 16. , 13.4, 28.6, 43.5, 20.2, 22. , 23. , 20.7, 12.5, 48.5,\n",
              "       14.6, 13.4, 23.7, 50. , 21.7, 39.8, 38.7, 22.2, 34.9, 22.5, 31.1,\n",
              "       28.7, 46. , 41.7, 21. , 26.6, 15. , 24.4, 13.3, 21.2, 11.7, 21.7,\n",
              "       19.4, 50. , 22.8, 19.7, 24.7, 36.2, 14.2, 18.9, 18.3, 20.6, 24.6,\n",
              "       18.2,  8.7, 44. , 10.4, 13.2, 21.2, 37. , 30.7, 22.9, 20. , 19.3,\n",
              "       31.7, 32. , 23.1, 18.8, 10.9, 50. , 19.6,  5. , 14.4, 19.8, 13.8,\n",
              "       19.6, 23.9, 24.5, 25. , 19.9, 17.2, 24.6, 13.5, 26.6, 21.4, 11.9,\n",
              "       22.6, 19.6,  8.5, 23.7, 23.1, 22.4, 20.5, 23.6, 18.4, 35.2, 23.1,\n",
              "       27.9, 20.6, 23.7, 28. , 13.6, 27.1, 23.6, 20.6, 18.2, 21.7, 17.1,\n",
              "        8.4, 25.3, 13.8, 22.2, 18.4, 20.7, 31.6, 30.5, 20.3,  8.8, 19.2,\n",
              "       19.4, 23.1, 23. , 14.8, 48.8, 22.6, 33.4, 21.1, 13.6, 32.2, 13.1,\n",
              "       23.4, 18.9, 23.9, 11.8, 23.3, 22.8, 19.6, 16.7, 13.4, 22.2, 20.4,\n",
              "       21.8, 26.4, 14.9, 24.1, 23.8, 12.3, 29.1, 21. , 19.5, 23.3, 23.8,\n",
              "       17.8, 11.5, 21.7, 19.9, 25. , 33.4, 28.5, 21.4, 24.3, 27.5, 33.1,\n",
              "       16.2, 23.3, 48.3, 22.9, 22.8, 13.1, 12.7, 22.6, 15. , 15.3, 10.5,\n",
              "       24. , 18.5, 21.7, 19.5, 33.2, 23.2,  5. , 19.1, 12.7, 22.3, 10.2,\n",
              "       13.9, 16.3, 17. , 20.1, 29.9, 17.2, 37.3, 45.4, 17.8, 23.2, 29. ,\n",
              "       22. , 18. , 17.4, 34.6, 20.1, 25. , 15.6, 24.8, 28.2, 21.2, 21.4,\n",
              "       23.8, 31. , 26.2, 17.4, 37.9, 17.5, 20. ,  8.3, 23.9,  8.4, 13.8,\n",
              "        7.2, 11.7, 17.1, 21.6, 50. , 16.1, 20.4, 20.6, 21.4, 20.6, 36.5,\n",
              "        8.5, 24.8, 10.8, 21.9, 17.3, 18.9, 36.2, 14.9, 18.2, 33.3, 21.8,\n",
              "       19.7, 31.6, 24.8, 19.4, 22.8,  7.5, 44.8, 16.8, 18.7, 50. , 50. ,\n",
              "       19.5, 20.1, 50. , 17.2, 20.8, 19.3, 41.3, 20.4, 20.5, 13.8, 16.5,\n",
              "       23.9, 20.6, 31.5, 23.3, 16.8, 14. , 33.8, 36.1, 12.8, 18.3, 18.7,\n",
              "       19.1, 29. , 30.1, 50. , 50. , 22. , 11.9, 37.6, 50. , 22.7, 20.8,\n",
              "       23.5, 27.9, 50. , 19.3, 23.9, 22.6, 15.2, 21.7, 19.2, 43.8, 20.3,\n",
              "       33.2, 19.9, 22.5, 32.7, 22. , 17.1, 19. , 15. , 16.1, 25.1, 23.7,\n",
              "       28.7, 37.2, 22.6, 16.4, 25. , 29.8, 22.1, 17.4, 18.1, 30.3, 17.5,\n",
              "       24.7, 12.6, 26.5, 28.7, 13.3, 10.4, 24.4, 23. , 20. , 17.8,  7. ,\n",
              "       11.8, 24.4, 13.8, 19.4, 25.2, 19.4, 19.4, 29.1])"
            ]
          },
          "metadata": {},
          "execution_count": 24
        }
      ]
    },
    {
      "cell_type": "code",
      "source": [
        "mean = train_data.mean(axis=0)\n",
        "train_data -= mean\n",
        "std = train_data.std(axis=0)\n",
        "train_data /= std\n",
        "test_data -= mean\n",
        "test_data /= std\n",
        "#標準化數據，使其平均值為0，標準差為1，這樣可以讓梯度下降更有效率"
      ],
      "metadata": {
        "id": "4yXbcQH52sYx"
      },
      "execution_count": 25,
      "outputs": []
    },
    {
      "cell_type": "markdown",
      "source": [
        "###比較不同神經元數###"
      ],
      "metadata": {
        "id": "TfdzFPdp1wuU"
      }
    },
    {
      "cell_type": "code",
      "source": [
        "#原始model\n",
        "def build_model_original():\n",
        "    model = keras.Sequential([\n",
        "        layers.Dense(64, activation=\"relu\"),#64個神經元 activation使用relu\n",
        "        layers.Dense(64, activation=\"relu\"),\n",
        "        layers.Dense(1)#最後一層只有1個神經元，因為是回歸問題，只需要輸出一個數值\n",
        "    ])\n",
        "    model.compile(optimizer=\"rmsprop\", loss=\"mse\", metrics=[\"mae\", RootMeanSquaredError(), \"mape\"])\n",
        "    return model\n",
        "#原始model+多256神經元\n",
        "def build_model_256():\n",
        "    model = keras.Sequential([\n",
        "        layers.Dense(256, activation=\"relu\"),\n",
        "        layers.Dense(256, activation=\"relu\"),\n",
        "        layers.Dense(1)\n",
        "    ])\n",
        "    model.compile(optimizer=\"rmsprop\", loss=\"mse\", metrics=[\"mae\", RootMeanSquaredError(), \"mape\"])\n",
        "    return model\n",
        "#原始model+多1024神經元\n",
        "def build_model_1024():\n",
        "    model = keras.Sequential([\n",
        "        layers.Dense(1024, activation=\"relu\"),\n",
        "        layers.Dense(1024, activation=\"relu\"),\n",
        "        layers.Dense(1)\n",
        "    ])\n",
        "    model.compile(optimizer=\"rmsprop\", loss=\"mse\", metrics=[\"mae\", RootMeanSquaredError(), \"mape\"])\n",
        "    return model\n",
        "\"\"\"\n",
        "#原始model+層數+改優化器\n",
        "def build_model_adam():\n",
        "    model = keras.Sequential([\n",
        "        layers.Dense(64, activation=\"relu\"),#64個神經元 activation使用relu\n",
        "        layers.Dense(64, activation=\"relu\"),\n",
        "        layers.Dense(64, activation=\"relu\"),\n",
        "        layers.Dense(64, activation=\"relu\"),\n",
        "        layers.Dense(1)#最後一層只有1個神經元，因為是回歸問題，只需要輸出一個數值\n",
        "    ])\n",
        "    model.compile(optimizer=\"adam\", loss=\"mse\", metrics=[\"mae\", RootMeanSquaredError(), \"mape\"])\n",
        "    return model\"\"\""
      ],
      "metadata": {
        "id": "dVcp1Xhu23Jp",
        "colab": {
          "base_uri": "https://localhost:8080/",
          "height": 72
        },
        "outputId": "cfe139ae-9106-41e6-e4cc-eec8fe15a1b1"
      },
      "execution_count": 26,
      "outputs": [
        {
          "output_type": "execute_result",
          "data": {
            "text/plain": [
              "'\\n#原始model+層數+改優化器\\ndef build_model_adam():\\n    model = keras.Sequential([\\n        layers.Dense(64, activation=\"relu\"),#64個神經元 activation使用relu\\n        layers.Dense(64, activation=\"relu\"),\\n        layers.Dense(64, activation=\"relu\"),\\n        layers.Dense(64, activation=\"relu\"),\\n        layers.Dense(1)#最後一層只有1個神經元，因為是回歸問題，只需要輸出一個數值\\n    ])\\n    model.compile(optimizer=\"adam\", loss=\"mse\", metrics=[\"mae\", RootMeanSquaredError(), \"mape\"])\\n    return model'"
            ],
            "application/vnd.google.colaboratory.intrinsic+json": {
              "type": "string"
            }
          },
          "metadata": {},
          "execution_count": 26
        }
      ]
    },
    {
      "cell_type": "code",
      "source": [
        "#原始神經元模型\n",
        "model_original = build_model_original()\n",
        "model_original.fit(train_data, train_targets,\n",
        "                epochs=100, batch_size=16, verbose=0)\n",
        "test_mse, test_mae, test_rmse, test_mape = model_original.evaluate(test_data, test_targets, verbose=0)#訓練模型用測試集評估模型MSE與MAE。\n",
        "test_mse_original, test_mae_original, test_rmse_original, test_mape_original = test_mse, test_mae, test_rmse, test_mape\n",
        "\n",
        "#256神經元模型\n",
        "model_256 = build_model_256()\n",
        "model_256.fit(train_data, train_targets,\n",
        "                epochs=100, batch_size=16, verbose=0)\n",
        "test_mse, test_mae, test_rmse, test_mape = model_256.evaluate(test_data, test_targets, verbose=0)\n",
        "test_mse_256, test_mae_256, test_rmse_256, test_mape_256 =test_mse, test_mae, test_rmse, test_mape\n",
        "\n",
        "#1024神經元模型\n",
        "model_1024 = build_model_1024()\n",
        "model_1024.fit(train_data, train_targets,\n",
        "                epochs=100, batch_size=16, verbose=0)\n",
        "test_mse, test_mae, test_rmse, test_mape = model_1024.evaluate(test_data, test_targets, verbose=0)\n",
        "test_mse_1024, test_mae_1024, test_rmse_1024, test_mape_1024 =test_mse, test_mae, test_rmse, test_mape"
      ],
      "metadata": {
        "id": "FBpASJ7C24BB"
      },
      "execution_count": null,
      "outputs": []
    },
    {
      "cell_type": "code",
      "source": [
        "print(\"256 Model Average MSE:\", test_mse_256)\n",
        "print(\"1024 Model Average MSE:\", test_mse_1024)\n",
        "print(\"=\"*70)\n",
        "print(\"Original Model Average MAE:\", test_mae_original)\n",
        "print(\"256 Model Average MAE:\", test_mae_256)\n",
        "print(\"1024 Model Average MAE:\", test_mae_1024)\n",
        "print(\"=\"*70)\n",
        "print(\"Original Model Average RMSE:\", test_rmse_original)\n",
        "print(\"256 Model Average RMSE:\", test_rmse_256)\n",
        "print(\"1024 Model Average RMSE:\", test_rmse_1024)\n",
        "print(\"=\"*70)\n",
        "print(\"Original Model Average MAPE:\", test_mape_original)\n",
        "print(\"256 Model Average MAPE:\", test_mape_256)\n",
        "print(\"1024 Model Average MAPE:\", test_mape_1024)"
      ],
      "metadata": {
        "id": "LswXN88f28V3"
      },
      "execution_count": null,
      "outputs": []
    },
    {
      "cell_type": "markdown",
      "source": [
        "###比較不同深度###"
      ],
      "metadata": {
        "id": "BMIYY-D12Wws"
      }
    },
    {
      "cell_type": "code",
      "source": [
        "#原始model+5層數\n",
        "def build_model_layers5():\n",
        "    model = keras.Sequential([\n",
        "        layers.Dense(64, activation=\"relu\"),\n",
        "        layers.Dense(64, activation=\"relu\"),\n",
        "        layers.Dense(64, activation=\"relu\"),\n",
        "        layers.Dense(64, activation=\"relu\"),\n",
        "        layers.Dense(64, activation=\"relu\"),\n",
        "        layers.Dense(1)\n",
        "    ])\n",
        "    model.compile(optimizer=\"rmsprop\", loss=\"mse\", metrics=[\"mae\", RootMeanSquaredError(), \"mape\"])\n",
        "    return model\n",
        "\n",
        "#原始model+7層數\n",
        "def build_model_layers7():\n",
        "    model = keras.Sequential([\n",
        "        layers.Dense(64, activation=\"relu\"),\n",
        "        layers.Dense(64, activation=\"relu\"),\n",
        "        layers.Dense(64, activation=\"relu\"),\n",
        "        layers.Dense(64, activation=\"relu\"),\n",
        "        layers.Dense(64, activation=\"relu\"),\n",
        "        layers.Dense(64, activation=\"relu\"),\n",
        "        layers.Dense(64, activation=\"relu\"),\n",
        "        layers.Dense(1)\n",
        "    ])\n",
        "    model.compile(optimizer=\"rmsprop\", loss=\"mse\", metrics=[\"mae\", RootMeanSquaredError(), \"mape\"])\n",
        "    return model"
      ],
      "metadata": {
        "id": "ahOMSHRS0SiE"
      },
      "execution_count": null,
      "outputs": []
    },
    {
      "cell_type": "code",
      "source": [
        "#5層神經元模型\n",
        "model_layers5 = build_model_layers5()\n",
        "model_layers5.fit(train_data, train_targets,\n",
        "                epochs=100, batch_size=16, verbose=0)\n",
        "test_mse, test_mae, test_rmse, test_mape = model_layers5.evaluate(test_data, test_targets, verbose=0)\n",
        "test_mse_layers5, test_mae_layers5, test_rmse_layers5, test_mape_layers5 =test_mse, test_mae, test_rmse, test_mape\n",
        "\n",
        "#7層神經元模型\n",
        "model_layers7 = build_model_layers7()\n",
        "model_layers7.fit(train_data, train_targets,\n",
        "                epochs=100, batch_size=16, verbose=0)\n",
        "test_mse, test_mae, test_rmse, test_mape = model_layers7.evaluate(test_data, test_targets, verbose=0)\n",
        "test_mse_layers7, test_mae_layers7, test_rmse_layers7, test_mape_layers7 =test_mse, test_mae, test_rmse, test_mape"
      ],
      "metadata": {
        "id": "Lu8OQGks3Q0D"
      },
      "execution_count": null,
      "outputs": []
    },
    {
      "cell_type": "code",
      "source": [
        "print(\"Original Model Average MSE:\", test_mse_original)\n",
        "print(\"layers5 Model Average MSE:\", test_mse_layers5)\n",
        "print(\"layers7 Model Average MSE:\", test_mse_layers7)\n",
        "print(\"=\"*70)\n",
        "print(\"Original Model Average RMSE:\", test_rmse_original)\n",
        "print(\"layers5 Model Average RMSE:\", test_rmse_layers5)\n",
        "print(\"layers7 Model Average RMSE:\", test_rmse_layers7)\n",
        "print(\"=\"*70)\n",
        "print(\"Original Model Average MAPE:\", test_mape_original)\n",
        "print(\"layers5 Model Average MAPE:\", test_mape_layers5)\n",
        "print(\"layers7 Model Average MAPE:\", test_mape_layers7)"
      ],
      "metadata": {
        "id": "hXHGc_ve4AuW"
      },
      "execution_count": null,
      "outputs": []
    },
    {
      "cell_type": "markdown",
      "source": [
        "###不同激活函數比較###"
      ],
      "metadata": {
        "id": "Z2-8MJIk8BLy"
      }
    },
    {
      "cell_type": "code",
      "source": [
        "#原始model+改sigmoid\n",
        "def build_model_sigmoid():\n",
        "    model = keras.Sequential([\n",
        "        layers.Dense(64, activation=\"sigmoid\"),\n",
        "        layers.Dense(64, activation=\"sigmoid\"),\n",
        "        layers.Dense(1)\n",
        "    ])\n",
        "    model.compile(optimizer=\"rmsprop\", loss=\"mse\", metrics=[\"mae\", RootMeanSquaredError(), \"mape\"])\n",
        "    return model\n",
        "#原始model+改softplus\n",
        "def build_model_softplus():\n",
        "    model = keras.Sequential([\n",
        "        layers.Dense(64, activation=\"softplus\"),\n",
        "        layers.Dense(64, activation=\"softplus\"),\n",
        "        layers.Dense(1)\n",
        "    ])\n",
        "    model.compile(optimizer=\"rmsprop\", loss=\"mse\", metrics=[\"mae\", RootMeanSquaredError(), \"mape\"])\n",
        "    return model"
      ],
      "metadata": {
        "id": "ZRpKgCdX75EM"
      },
      "execution_count": null,
      "outputs": []
    },
    {
      "cell_type": "code",
      "source": [
        "#5層神經元模型\n",
        "model_sigmoid = build_model_sigmoid()\n",
        "model_sigmoid.fit(train_data, train_targets,\n",
        "                epochs=100, batch_size=16, verbose=0)\n",
        "test_mse, test_mae, test_rmse, test_mape = model_sigmoid.evaluate(test_data, test_targets, verbose=0)\n",
        "test_mse_sigmoid, test_mae_sigmoid, test_rmse_sigmoid, test_mape_sigmoid =test_mse, test_mae, test_rmse, test_mape\n",
        "\n",
        "#7層神經元模型\n",
        "model_softplus = build_model_softplus()\n",
        "model_softplus.fit(train_data, train_targets,\n",
        "                epochs=100, batch_size=16, verbose=0)\n",
        "test_mse, test_mae, test_rmse, test_mape = model_softplus.evaluate(test_data, test_targets, verbose=0)\n",
        "test_mse_softplus, test_mae_softplus, test_rmse_softplus, test_mape_softplus =test_mse, test_mae, test_rmse, test_mape"
      ],
      "metadata": {
        "id": "mJfH6yan9imz"
      },
      "execution_count": null,
      "outputs": []
    },
    {
      "cell_type": "code",
      "source": [
        "print(\"Original Model Average MSE:\", test_mse_original)\n",
        "print(\"sigmoid Model Average MSE:\", test_mse_sigmoid)\n",
        "print(\"softplus Model Average MSE:\", test_mse_softplus)\n",
        "print(\"=\"*70)\n",
        "print(\"Original Model Average RMSE:\", test_rmse_original)\n",
        "print(\"sigmoid Model Average RMSE:\", test_rmse_sigmoid)\n",
        "print(\"softplus Model Average RMSE:\", test_rmse_softplus)\n",
        "print(\"=\"*70)\n",
        "print(\"Original Model Average MAPE:\", test_mape_original)\n",
        "print(\"sigmoid Model Average MAPE:\", test_mape_sigmoid)\n",
        "print(\"softplus Model Average MAPE:\", test_mape_softplus)"
      ],
      "metadata": {
        "id": "s7-Qcoqj92l6"
      },
      "execution_count": null,
      "outputs": []
    },
    {
      "cell_type": "code",
      "source": [
        "epochs_list = range(100, 9, -10)\n",
        "batch_sizes = [16, 32, 64, 128]\n",
        "\n",
        "results = {}  # 用於儲存結果\n",
        "\n",
        "for epochs in epochs_list:\n",
        "    for batch_size in batch_sizes:\n",
        "        model = build_model_original()  # 每次都重新建立模型\n",
        "        model.fit(train_data, train_targets, epochs=epochs, batch_size=batch_size, verbose=0)\n",
        "        test_mse, test_mae, test_rmse, test_mape = model.evaluate(test_data, test_targets, verbose=0)\n",
        "        results[(epochs, batch_size)] = {\n",
        "            'mse': test_mse,\n",
        "            'mae': test_mae,\n",
        "            'rmse': test_rmse,\n",
        "            'mape': test_mape\n",
        "        }\n",
        "# 輸出結果\n",
        "for (epochs, batch_size), metrics in results.items():\n",
        "    print(f\"Epochs: {epochs}, Batch Size: {batch_size}\")\n",
        "    print(f\"  MSE: {metrics['mse']:.4f}\")\n",
        "    print(f\"  MAE: {metrics['mae']:.4f}\")\n",
        "    print(f\"  RMSE: {metrics['rmse']:.4f}\")\n",
        "    print(f\"  MAPE: {metrics['mape']:.4f}\")"
      ],
      "metadata": {
        "id": "67oJN3DmBtnb"
      },
      "execution_count": null,
      "outputs": []
    },
    {
      "cell_type": "code",
      "source": [
        "import matplotlib.pyplot as plt\n",
        "epochs_list = list(range(100, 9, -10))\n",
        "batch_sizes = [16, 32, 64, 128]\n",
        "\n",
        "mse_by_batch_size = {batch_size: [] for batch_size in batch_sizes}\n",
        "\n",
        "for epochs in epochs_list:\n",
        "    for batch_size in batch_sizes:\n",
        "        mse_by_batch_size[batch_size].append(results[(epochs, batch_size)]['mse'])\n"
      ],
      "metadata": {
        "id": "r8-ZOjq4ipeG"
      },
      "execution_count": null,
      "outputs": []
    },
    {
      "cell_type": "code",
      "source": [
        "plt.figure(figsize=(10, 6))  # 設定圖形大小\n",
        "\n",
        "for batch_size, mse_values in mse_by_batch_size.items():\n",
        "    plt.plot(epochs_list, mse_values, marker='o', label=f'Batch Size: {batch_size}')\n",
        "\n",
        "plt.title('MSE vs. Epochs')\n",
        "plt.xlabel('Epochs')\n",
        "plt.ylabel('MSE')\n",
        "plt.xticks(epochs_list)  # 設定 x 軸刻度\n",
        "plt.legend()\n",
        "plt.grid(True)  # 添加網格線\n",
        "plt.show()"
      ],
      "metadata": {
        "id": "o3O1kbgHit74"
      },
      "execution_count": null,
      "outputs": []
    },
    {
      "cell_type": "code",
      "source": [
        "batch_size_list = [16,32,64,128]\n",
        "epochs_list = list(range(100, 9, -10))\n",
        "\n",
        "mse_by_epochs = {epochs: [] for epochs in epochs_list}\n",
        "\n",
        "for batch_size in batch_size_list:\n",
        "  for epochs in epochs_list:\n",
        "    mse_by_epochs[epochs].append(results[(epochs, batch_size)]['mse'])\n",
        "\n",
        "plt.figure(figsize=(10, 6))\n",
        "\n",
        "for epochs, mse_values in mse_by_epochs.items():\n",
        "    plt.plot(batch_size_list, mse_values, marker='o', label=f'Epochs: {epochs}')\n",
        "\n",
        "plt.title('MSE vs. Batch Size')\n",
        "plt.xlabel('Batch Size')\n",
        "plt.ylabel('MSE')\n",
        "plt.xticks(batch_size_list)\n",
        "plt.legend()\n",
        "plt.grid(True)\n",
        "plt.show()"
      ],
      "metadata": {
        "id": "QYkQZuX1iwYx"
      },
      "execution_count": null,
      "outputs": []
    },
    {
      "cell_type": "code",
      "source": [
        "predictions = model_original.predict(test_data)\n",
        "predictions[0]\n",
        "print(f\"Actual Price: {test_targets[0]}, Predicted Price: {predictions[0][0]}\")"
      ],
      "metadata": {
        "id": "ZGeM0DBr3LAV"
      },
      "execution_count": null,
      "outputs": []
    },
    {
      "cell_type": "code",
      "source": [
        "#迴歸問題的數值預測分別使用\n",
        "#MAE、RMSE 與 MAPE 指標。\n",
        "#分析淺層神經網路及深度神經網路對訓練資料集及測試資料集之預測績效的影響(課程投\n",
        "'''\n",
        "分析不同的隱藏層數量及節點數量之影響\n",
        "分析隱藏層的激活函數使用 Sigmoid、Softplus 或 ReLU，對訓練資料集及測試資料集之預\n",
        "測績效的影響\n",
        "分析設定不同的 batch size 及 epoch，對訓練模型所需之訓練時間以及模型預測績效之影響\n",
        "\n",
        "'''"
      ],
      "metadata": {
        "id": "l45LQudQok6m"
      },
      "execution_count": null,
      "outputs": []
    }
  ]
}